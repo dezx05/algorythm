{
 "cells": [
  {
   "cell_type": "markdown",
   "id": "fifteen-sailing",
   "metadata": {
    "id": "fifteen-sailing"
   },
   "source": [
    "# Лабораторная работа №2\n",
    "## Выполнил студент группы Курмашев Данил БПИ2303"
   ]
  },
  {
   "cell_type": "markdown",
   "id": "arctic-stocks",
   "metadata": {
    "id": "arctic-stocks"
   },
   "source": [
    "  \n",
    "● <b> Стек (stack): </b>  \n",
    "Операции для стека:\n",
    "<i> инициализация, проверка на пустоту, добавление нового элемента в начало, извлечение элемента из начала;  </i>  \n",
    "  \n",
    "● <b> Дек (двусторонняя очередь, deque):  </b>  \n",
    "Операции для дека:\n",
    "<i> инициализация, проверка на пустоту, добавление нового элемента в начало, добавление нового элемента в конец, извлечение элемента из начала, извлечение элемента из конца. </i>  \n",
    "  \n",
    "<i> Разработать программу обработки данных, содержащихся в заранее подготовленном txt-файле, в соответствии с заданиями, применив указанную в задании структуру данных. Результат работы программы вывести на экран и сохранить в отдельном txt-файле. </i>"
   ]
  },
  {
   "cell_type": "code",
   "execution_count": 4,
   "id": "1945f8d7",
   "metadata": {},
   "outputs": [],
   "source": [
    "import shutil\n",
    "import re\n",
    "from collections import deque"
   ]
  },
  {
   "cell_type": "markdown",
   "id": "5d7edb08",
   "metadata": {
    "id": "5d7edb08",
    "scrolled": true
   },
   "source": [
    "### Задание №1\n",
    "Отсортировать строки файла, содержащие названия книг, в алфавитном порядке с использованием двух деков."
   ]
  },
  {
   "cell_type": "code",
   "execution_count": null,
   "id": "17702ade",
   "metadata": {
    "id": "17702ade"
   },
   "outputs": [],
   "source": [
    "def sort_books(file_name):\n",
    "    input_deque = deque() \n",
    "\n",
    "    with open(file_name, \"r\", encoding=\"utf-8\") as f:\n",
    "        for line in f:\n",
    "            input_deque.append(line.strip())\n",
    "\n",
    "    sorted_list = sorted(input_deque)\n",
    "\n",
    "    sorted_deque = deque(sorted_list)\n",
    "\n",
    "    with open(file_name, \"w\", encoding=\"utf-8\") as f:\n",
    "        for book in sorted_deque:\n",
    "            f.write(book + \"\\n\")\n",
    "\n",
    "input_file = \"2.1/books.txt\"\n",
    "copy_file = \"2.1/books_copy.txt\"\n",
    "\n",
    "shutil.copy(input_file, copy_file)\n",
    "\n",
    "sort_books(copy_file)"
   ]
  },
  {
   "cell_type": "markdown",
   "id": "49fbd2a0",
   "metadata": {
    "id": "49fbd2a0"
   },
   "source": [
    "### Задание №2\n",
    "Дек содержит последовательность символов для шифровки сообщений. Дан текстовый файл, содержащий зашифрованное сообщение. Пользуясь деком, расшифровать текст.\n",
    "Известно, что при шифровке каждый символ сообщения заменялся следующим за ним в деке по часовой стрелке через один."
   ]
  },
  {
   "cell_type": "code",
   "execution_count": null,
   "id": "469493d9",
   "metadata": {},
   "outputs": [
    {
     "name": "stdout",
     "output_type": "stream",
     "text": [
      "Зашифрованный текст: Юфу гфусрй ивибпнё су мвёптеурхоро свёпфй!\n",
      "Ключи: [1, 2, 5]\n"
     ]
    }
   ],
   "source": [
    "def encrypt_message(text, keys):\n",
    "    \"\"\"Функция шифрования сообщения\"\"\"\n",
    "    keys = deque(keys)\n",
    "\n",
    "    alphabet_upper = \"АБВГДЕЁЖЗИЙКЛМНОПРСТУФХЦЧШЩЪЫЬЭЮЯ\"\n",
    "    alphabet_lower = alphabet_upper.lower()\n",
    "    alphabet_size = len(alphabet_upper)\n",
    "\n",
    "    encrypted_text = []\n",
    "\n",
    "    for char in text:\n",
    "        if char in alphabet_upper or char in alphabet_lower: \n",
    "            shift = keys[0]  \n",
    "            keys.rotate(-1) \n",
    "            \n",
    "            if char in alphabet_upper:\n",
    "                new_index = (alphabet_upper.index(char) + shift) % alphabet_size\n",
    "                new_char = alphabet_upper[new_index]\n",
    "            else:\n",
    "                new_index = (alphabet_lower.index(char) + shift) % alphabet_size\n",
    "                new_char = alphabet_lower[new_index]\n",
    "        else:\n",
    "            new_char = char \n",
    "\n",
    "        encrypted_text.append(new_char)\n",
    "\n",
    "    return \"\".join(encrypted_text)\n",
    "\n",
    "\n",
    "original_text = \"Это второе задание по лабораторной работе!\"\n",
    "shift_keys = [1, 2, 3] \n",
    "\n",
    "encrypted_text = encrypt_message(original_text, shift_keys)\n",
    "\n",
    "print(\"Зашифрованный текст:\", encrypted_text)\n",
    "print(\"Ключи:\", shift_keys)"
   ]
  },
  {
   "cell_type": "code",
   "execution_count": 19,
   "id": "81cab7a8",
   "metadata": {
    "id": "81cab7a8"
   },
   "outputs": [],
   "source": [
    "def decrypt_message(message_file, keys_file):\n",
    "    \"\"\"Функция для расшифровки текста\"\"\"\n",
    "\n",
    "    with open(keys_file, \"r\", encoding=\"utf-8\") as f:\n",
    "        keys = deque(map(int, f.read().split()))\n",
    "\n",
    "    with open(message_file, \"r\", encoding=\"utf-8\") as f:\n",
    "        encrypted_text = f.read()\n",
    "\n",
    "    decrypted_text = []\n",
    "\n",
    "    alphabet_upper = \"АБВГДЕЁЖЗИЙКЛМНОПРСТУФХЦЧШЩЪЫЬЭЮЯ\"\n",
    "    alphabet_lower = alphabet_upper.lower()\n",
    "    \n",
    "    alphabet_size = len(alphabet_upper)\n",
    "\n",
    "    for char in encrypted_text:\n",
    "        if char in alphabet_upper or char in alphabet_lower:\n",
    "            shift = keys.popleft()\n",
    "            keys.append(shift)\n",
    "\n",
    "            if char in alphabet_upper:\n",
    "                new_index = (alphabet_upper.index(char) - shift) % alphabet_size\n",
    "                new_char = alphabet_upper[new_index]\n",
    "            else:\n",
    "                new_index = (alphabet_lower.index(char) - shift) % alphabet_size\n",
    "                new_char = alphabet_lower[new_index]\n",
    "        else:\n",
    "            new_char = char\n",
    "\n",
    "        decrypted_text.append(new_char)\n",
    "\n",
    "    with open(\"2.2/decrypted_message.txt\", \"w\", encoding=\"utf-8\") as f:\n",
    "        f.write(\"\".join(decrypted_text))\n",
    "\n",
    "decrypt_message(\"2.2/message.txt\", \"2.2/keys.txt\")"
   ]
  },
  {
   "cell_type": "markdown",
   "id": "c0894f47",
   "metadata": {
    "id": "c0894f47"
   },
   "source": [
    "### Задание №3\n",
    "Даны три стержня и n дисков различного размера. Диски можно надевать на стержни, образуя из них башни. Перенести n дисков со стержня А на стержень С, сохранив их первоначальный порядок. При переносе дисков необходимо соблюдать следующие правила:\n",
    "- на каждом шаге со стержня на стержень переносить только один диск;\n",
    "- диск нельзя помещать на диск меньшего размера;\n",
    "- для промежуточного хранения можно использовать стержень В.\n",
    "Реализовать алгоритм, используя три стека вместо стержней А, В, С. Информация о дисках хранится в исходном файле."
   ]
  },
  {
   "cell_type": "code",
   "execution_count": null,
   "id": "9e91a9d4",
   "metadata": {
    "id": "9e91a9d4"
   },
   "outputs": [
    {
     "name": "stdout",
     "output_type": "stream",
     "text": [
      "Начальное состояние:\n",
      "A: [6, 5, 4, 3, 2, 1]\n",
      "C: []\n",
      "B: []\n",
      "\n",
      "Перемещение. Состояние:\n",
      "A: [6, 5, 4, 3, 2]\n",
      "B: [1]\n",
      "\n",
      "Перемещение. Состояние:\n",
      "A: [6, 5, 4, 3]\n",
      "C: [2]\n",
      "\n",
      "Перемещение. Состояние:\n",
      "C: [2, 1]\n",
      "B: []\n",
      "\n",
      "Перемещение. Состояние:\n",
      "A: [6, 5, 4]\n",
      "B: [3]\n",
      "\n",
      "Перемещение. Состояние:\n",
      "A: [6, 5, 4, 1]\n",
      "C: [2]\n",
      "\n",
      "Перемещение. Состояние:\n",
      "C: []\n",
      "B: [3, 2]\n",
      "\n",
      "Перемещение. Состояние:\n",
      "A: [6, 5, 4]\n",
      "B: [3, 2, 1]\n",
      "\n",
      "Перемещение. Состояние:\n",
      "A: [6, 5]\n",
      "C: [4]\n",
      "\n",
      "Перемещение. Состояние:\n",
      "C: [4, 1]\n",
      "B: [3, 2]\n",
      "\n",
      "Перемещение. Состояние:\n",
      "A: [6, 5, 2]\n",
      "B: [3]\n",
      "\n",
      "Перемещение. Состояние:\n",
      "A: [6, 5, 2, 1]\n",
      "C: [4]\n",
      "\n",
      "Перемещение. Состояние:\n",
      "C: [4, 3]\n",
      "B: []\n",
      "\n",
      "Перемещение. Состояние:\n",
      "A: [6, 5, 2]\n",
      "B: [1]\n",
      "\n",
      "Перемещение. Состояние:\n",
      "A: [6, 5]\n",
      "C: [4, 3, 2]\n",
      "\n",
      "Перемещение. Состояние:\n",
      "C: [4, 3, 2, 1]\n",
      "B: []\n",
      "\n",
      "Перемещение. Состояние:\n",
      "A: [6]\n",
      "B: [5]\n",
      "\n",
      "Перемещение. Состояние:\n",
      "A: [6, 1]\n",
      "C: [4, 3, 2]\n",
      "\n",
      "Перемещение. Состояние:\n",
      "C: [4, 3]\n",
      "B: [5, 2]\n",
      "\n",
      "Перемещение. Состояние:\n",
      "A: [6]\n",
      "B: [5, 2, 1]\n",
      "\n",
      "Перемещение. Состояние:\n",
      "A: [6, 3]\n",
      "C: [4]\n",
      "\n",
      "Перемещение. Состояние:\n",
      "C: [4, 1]\n",
      "B: [5, 2]\n",
      "\n",
      "Перемещение. Состояние:\n",
      "A: [6, 3, 2]\n",
      "B: [5]\n",
      "\n",
      "Перемещение. Состояние:\n",
      "A: [6, 3, 2, 1]\n",
      "C: [4]\n",
      "\n",
      "Перемещение. Состояние:\n",
      "C: []\n",
      "B: [5, 4]\n",
      "\n",
      "Перемещение. Состояние:\n",
      "A: [6, 3, 2]\n",
      "B: [5, 4, 1]\n",
      "\n",
      "Перемещение. Состояние:\n",
      "A: [6, 3]\n",
      "C: [2]\n",
      "\n",
      "Перемещение. Состояние:\n",
      "C: [2, 1]\n",
      "B: [5, 4]\n",
      "\n",
      "Перемещение. Состояние:\n",
      "A: [6]\n",
      "B: [5, 4, 3]\n",
      "\n",
      "Перемещение. Состояние:\n",
      "A: [6, 1]\n",
      "C: [2]\n",
      "\n",
      "Перемещение. Состояние:\n",
      "C: []\n",
      "B: [5, 4, 3, 2]\n",
      "\n",
      "Перемещение. Состояние:\n",
      "A: [6]\n",
      "B: [5, 4, 3, 2, 1]\n",
      "\n",
      "Перемещение. Состояние:\n",
      "A: []\n",
      "C: [6]\n",
      "\n",
      "Перемещение. Состояние:\n",
      "C: [6, 1]\n",
      "B: [5, 4, 3, 2]\n",
      "\n",
      "Перемещение. Состояние:\n",
      "A: [2]\n",
      "B: [5, 4, 3]\n",
      "\n",
      "Перемещение. Состояние:\n",
      "A: [2, 1]\n",
      "C: [6]\n",
      "\n",
      "Перемещение. Состояние:\n",
      "C: [6, 3]\n",
      "B: [5, 4]\n",
      "\n",
      "Перемещение. Состояние:\n",
      "A: [2]\n",
      "B: [5, 4, 1]\n",
      "\n",
      "Перемещение. Состояние:\n",
      "A: []\n",
      "C: [6, 3, 2]\n",
      "\n",
      "Перемещение. Состояние:\n",
      "C: [6, 3, 2, 1]\n",
      "B: [5, 4]\n",
      "\n",
      "Перемещение. Состояние:\n",
      "A: [4]\n",
      "B: [5]\n",
      "\n",
      "Перемещение. Состояние:\n",
      "A: [4, 1]\n",
      "C: [6, 3, 2]\n",
      "\n",
      "Перемещение. Состояние:\n",
      "C: [6, 3]\n",
      "B: [5, 2]\n",
      "\n",
      "Перемещение. Состояние:\n",
      "A: [4]\n",
      "B: [5, 2, 1]\n",
      "\n",
      "Перемещение. Состояние:\n",
      "A: [4, 3]\n",
      "C: [6]\n",
      "\n",
      "Перемещение. Состояние:\n",
      "C: [6, 1]\n",
      "B: [5, 2]\n",
      "\n",
      "Перемещение. Состояние:\n",
      "A: [4, 3, 2]\n",
      "B: [5]\n",
      "\n",
      "Перемещение. Состояние:\n",
      "A: [4, 3, 2, 1]\n",
      "C: [6]\n",
      "\n",
      "Перемещение. Состояние:\n",
      "C: [6, 5]\n",
      "B: []\n",
      "\n",
      "Перемещение. Состояние:\n",
      "A: [4, 3, 2]\n",
      "B: [1]\n",
      "\n",
      "Перемещение. Состояние:\n",
      "A: [4, 3]\n",
      "C: [6, 5, 2]\n",
      "\n",
      "Перемещение. Состояние:\n",
      "C: [6, 5, 2, 1]\n",
      "B: []\n",
      "\n",
      "Перемещение. Состояние:\n",
      "A: [4]\n",
      "B: [3]\n",
      "\n",
      "Перемещение. Состояние:\n",
      "A: [4, 1]\n",
      "C: [6, 5, 2]\n",
      "\n",
      "Перемещение. Состояние:\n",
      "C: [6, 5]\n",
      "B: [3, 2]\n",
      "\n",
      "Перемещение. Состояние:\n",
      "A: [4]\n",
      "B: [3, 2, 1]\n",
      "\n",
      "Перемещение. Состояние:\n",
      "A: []\n",
      "C: [6, 5, 4]\n",
      "\n",
      "Перемещение. Состояние:\n",
      "C: [6, 5, 4, 1]\n",
      "B: [3, 2]\n",
      "\n",
      "Перемещение. Состояние:\n",
      "A: [2]\n",
      "B: [3]\n",
      "\n",
      "Перемещение. Состояние:\n",
      "A: [2, 1]\n",
      "C: [6, 5, 4]\n",
      "\n",
      "Перемещение. Состояние:\n",
      "C: [6, 5, 4, 3]\n",
      "B: []\n",
      "\n",
      "Перемещение. Состояние:\n",
      "A: [2]\n",
      "B: [1]\n",
      "\n",
      "Перемещение. Состояние:\n",
      "A: []\n",
      "C: [6, 5, 4, 3, 2]\n",
      "\n",
      "Перемещение. Состояние:\n",
      "C: [6, 5, 4, 3, 2, 1]\n",
      "B: []\n",
      "\n",
      "Конечное состояние:\n",
      "A: []\n",
      "C: [6, 5, 4, 3, 2, 1]\n",
      "B: []\n",
      "\n"
     ]
    }
   ],
   "source": [
    "class Stack:\n",
    "    def __init__(self, name):\n",
    "        self.stack = []  \n",
    "        self.name = name  \n",
    "\n",
    "    def push(self, item):\n",
    "        \"\"\"Добавляет диск в стек\"\"\"\n",
    "        self.stack.append(item)\n",
    "\n",
    "    def pop(self):\n",
    "        \"\"\"Удаляет и возвращает верхний диск из стека\"\"\"\n",
    "        return self.stack.pop() if self.stack else None\n",
    "\n",
    "    def peek(self):\n",
    "        \"\"\"Возвращает верхний диск без удаления\"\"\"\n",
    "        return self.stack[-1] if self.stack else None\n",
    "\n",
    "    def is_empty(self):\n",
    "        \"\"\"Проверяет, пуст ли стек\"\"\"\n",
    "        return not self.stack\n",
    "\n",
    "    def __repr__(self):\n",
    "        \"\"\"Выводит текущее состояние стержня\"\"\"\n",
    "        return f\"{self.name}: {self.stack}\"\n",
    "\n",
    "def hanoi(n, source, target, auxiliary):\n",
    "    total_moves = 2**n - 1  \n",
    "\n",
    "    if n % 2 == 0:  \n",
    "        target, auxiliary = auxiliary, target\n",
    "\n",
    "    for disk in range(n, 0, -1):\n",
    "        source.push(disk)\n",
    "\n",
    "    print(f\"Начальное состояние:\\n{source}\\n{auxiliary}\\n{target}\\n\")\n",
    "\n",
    "    for move in range(1, total_moves + 1):\n",
    "        if move % 3 == 1:\n",
    "            move_disk(source, target)\n",
    "        elif move % 3 == 2:\n",
    "            move_disk(source, auxiliary)\n",
    "        elif move % 3 == 0:\n",
    "            move_disk(auxiliary, target)\n",
    "\n",
    "    print(f\"Конечное состояние:\\n{source}\\n{auxiliary}\\n{target}\\n\")\n",
    "\n",
    "def move_disk(from_stack, to_stack):\n",
    "    if from_stack.is_empty():\n",
    "        from_stack.push(to_stack.pop())\n",
    "    elif to_stack.is_empty() or from_stack.peek() < to_stack.peek():\n",
    "        to_stack.push(from_stack.pop())\n",
    "    else:\n",
    "        from_stack.push(to_stack.pop())\n",
    "\n",
    "    print(f\"Перемещение. Состояние:\\n{from_stack}\\n{to_stack}\\n\")\n",
    "\n",
    "def read_disks_from_file(filename):\n",
    "    with open(filename, \"r\") as file:\n",
    "        return list(map(int, file.readline().split()))  \n",
    "\n",
    "def save_result_to_file(target, filename):\n",
    "    with open(filename, \"w\") as file:\n",
    "        file.write(\" \".join(map(str, target.stack)))\n",
    "\n",
    "def main():\n",
    "    filename = \"2.3/disks.txt\"\n",
    "\n",
    "    disks = read_disks_from_file(filename)\n",
    "\n",
    "    A = Stack(\"A\")\n",
    "    B = Stack(\"B\")\n",
    "    C = Stack(\"C\")\n",
    "    hanoi(len(disks), A, C, B)\n",
    "\n",
    "    save_result_to_file(C, \"2.3/result.txt\")\n",
    "\n",
    "if __name__ == \"__main__\":\n",
    "    main()"
   ]
  },
  {
   "cell_type": "markdown",
   "id": "e5b0be17",
   "metadata": {
    "id": "e5b0be17"
   },
   "source": [
    "### Задание №4\n",
    "Дан текстовый файл с программой на алгоритмическом языке. За один просмотр файла проверить баланс круглых скобок в тексте, используя стек."
   ]
  },
  {
   "cell_type": "code",
   "execution_count": 6,
   "id": "5b1df60a",
   "metadata": {
    "id": "5b1df60a"
   },
   "outputs": [
    {
     "name": "stdout",
     "output_type": "stream",
     "text": [
      "Ошибка: лишняя '(' в строке 3\n"
     ]
    },
    {
     "data": {
      "text/plain": [
       "False"
      ]
     },
     "execution_count": 6,
     "metadata": {},
     "output_type": "execute_result"
    }
   ],
   "source": [
    "def check_parentheses_balance(filename):\n",
    "    \"\"\"Функция проверки баланса круглых скобок\"\"\"\n",
    "    shutil.copy(filename, filename_copy)\n",
    "    stack = []\n",
    "\n",
    "    with open(filename_copy, \"r\", encoding=\"utf-8\") as file:\n",
    "        for line_num, line in enumerate(file, start=1):\n",
    "            for char in line:\n",
    "                if char == \"(\":\n",
    "                    stack.append((char, line_num))\n",
    "                elif char == \")\":\n",
    "                    if not stack:\n",
    "                        print(f\"Ошибка: лишняя ')' в строке {line_num}\")\n",
    "                        return False\n",
    "                    stack.pop()\n",
    "\n",
    "    if stack:\n",
    "        for _, line_num in stack:\n",
    "            print(f\"Ошибка: лишняя '(' в строке {line_num}\")\n",
    "        return False\n",
    "\n",
    "    print(\"Скобки сбалансированы!\")\n",
    "    return True\n",
    "\n",
    "filename = \"2.4/program.txt\"\n",
    "filename_copy = \"2.4/program_copy.txt\"\n",
    "\n",
    "check_parentheses_balance(filename)"
   ]
  },
  {
   "cell_type": "markdown",
   "id": "c44cdd6b",
   "metadata": {
    "id": "c44cdd6b"
   },
   "source": [
    "### Задание №5\n",
    "Дан текстовый файл с программой на алгоритмическом языке. За один просмотр файла проверить баланс квадратных скобок в тексте, используя дек."
   ]
  },
  {
   "cell_type": "code",
   "execution_count": null,
   "id": "36b8f400",
   "metadata": {
    "id": "36b8f400"
   },
   "outputs": [
    {
     "name": "stdout",
     "output_type": "stream",
     "text": [
      "Ошибка: лишняя '[' в строке 3\n"
     ]
    },
    {
     "data": {
      "text/plain": [
       "False"
      ]
     },
     "execution_count": 8,
     "metadata": {},
     "output_type": "execute_result"
    }
   ],
   "source": [
    "def check_brackets_balance(filename):\n",
    "    \"\"\"Функция проверки баланса квадратных скобок с помощью дека\"\"\"\n",
    "    shutil.copy(filename, filename_copy)\n",
    "    dq = deque()\n",
    "\n",
    "    with open(filename_copy, \"r\", encoding=\"utf-8\") as file:\n",
    "        for line_num, line in enumerate(file, start=1):\n",
    "            for char in line:\n",
    "                if char == \"[\":\n",
    "                    dq.append((char, line_num))\n",
    "                elif char == \"]\":\n",
    "                    if not dq:\n",
    "                        print(f\"Ошибка: лишняя ']' в строке {line_num}\")\n",
    "                        return False\n",
    "                    dq.pop()\n",
    "\n",
    "    if dq:\n",
    "        for _, line_num in dq:\n",
    "            print(f\"Ошибка: лишняя '[' в строке {line_num}\")\n",
    "        return False\n",
    "\n",
    "    print(\"Скобки сбалансированы!\")\n",
    "    return True\n",
    "\n",
    "filename = \"2.5/program.txt\"\n",
    "filename_copy = \"2.5/program_copy.txt\"\n",
    "\n",
    "check_brackets_balance(filename)"
   ]
  },
  {
   "cell_type": "markdown",
   "id": "59d13dc7",
   "metadata": {
    "id": "59d13dc7"
   },
   "source": [
    "### Задание №6\n",
    "Дан файл из символов. Используя стек, за один просмотр файла напечатать сначала все цифры, затем все буквы, и, наконец, все остальные символы, сохраняя исходный порядок в каждой группе символов."
   ]
  },
  {
   "cell_type": "code",
   "execution_count": null,
   "id": "297e36c2",
   "metadata": {
    "id": "297e36c2"
   },
   "outputs": [
    {
     "name": "stdout",
     "output_type": "stream",
     "text": [
      "123456789\n",
      "HelloWorldTestData\n",
      "! ?\n",
      "@#\n"
     ]
    }
   ],
   "source": [
    "def process_file_symbols(filename):\n",
    "    \"\"\"Функция для разделения символов с помощью стека\"\"\"\n",
    "    shutil.copy(filename, filename_copy)\n",
    "\n",
    "    digits_stack = []\n",
    "    letters_stack = []\n",
    "    other_stack = []\n",
    "\n",
    "    with open(filename_copy, \"r\", encoding=\"utf-8\") as file:\n",
    "        for line in file:\n",
    "            for char in line:\n",
    "                if char.isdigit():\n",
    "                    digits_stack.append(char)\n",
    "                elif char.isalpha():\n",
    "                    letters_stack.append(char)\n",
    "                else:\n",
    "                    other_stack.append(char)\n",
    "\n",
    "    print(\"\".join(digits_stack))\n",
    "    print(\"\".join(letters_stack))\n",
    "    print(\"\".join(other_stack))\n",
    "\n",
    "filename = \"2.6/symbols.txt\"\n",
    "filename_copy = \"2.6/symbols_copy.txt\"\n",
    "\n",
    "process_file_symbols(filename)"
   ]
  },
  {
   "cell_type": "markdown",
   "id": "973f68bd",
   "metadata": {
    "id": "973f68bd"
   },
   "source": [
    "### Задание №7\n",
    "Дан файл из целых чисел. Используя дек, за один просмотр файла напечатать сначала все отрицательные числа, затем все положительные числа, сохраняя исходный порядок в каждой группе."
   ]
  },
  {
   "cell_type": "code",
   "execution_count": null,
   "id": "c56fad66",
   "metadata": {
    "id": "c56fad66"
   },
   "outputs": [
    {
     "name": "stdout",
     "output_type": "stream",
     "text": [
      "-5 -8 -3 -1 -2 -7 -4\n",
      "12 7 9 0 4 6 15 3 1\n"
     ]
    }
   ],
   "source": [
    "def process_numbers(filename):\n",
    "    \"\"\"Функция для разделения чисел\"\"\"\n",
    "    shutil.copy(filename, filename_copy)\n",
    "\n",
    "    negative_deque = deque()\n",
    "    positive_deque = deque()\n",
    "    with open(filename_copy, \"r\", encoding=\"utf-8\") as file:\n",
    "        for line in file:\n",
    "            for num in line.split():\n",
    "                number = int(num)\n",
    "                if number < 0:\n",
    "                    negative_deque.append(number)\n",
    "                else:\n",
    "                    positive_deque.append(number)\n",
    "\n",
    "    print(*negative_deque)\n",
    "    print(*positive_deque)\n",
    "\n",
    "filename = \"2.7/numbers.txt\"\n",
    "filename_copy = \"2.7/numbers_copy.txt\"\n",
    "\n",
    "process_numbers(filename)"
   ]
  },
  {
   "cell_type": "markdown",
   "id": "b9228191",
   "metadata": {
    "id": "b9228191"
   },
   "source": [
    "### Задание №8\n",
    "Дан текстовый файл. Используя стек, сформировать новый текстовый файл, содержащий строки исходного файла, записанные в обратном порядке: первая строка становится последней, вторая – предпоследней и т.д."
   ]
  },
  {
   "cell_type": "code",
   "execution_count": null,
   "id": "981fbdfe",
   "metadata": {
    "id": "981fbdfe"
   },
   "outputs": [],
   "source": [
    "def reverse_lines(filename):\n",
    "    \"\"\"Функция для переворачивания строк с использованием стека\"\"\"\n",
    "    shutil.copy(filename, filename_copy)\n",
    "\n",
    "    stack = []\n",
    "\n",
    "    with open(filename_copy, \"r\", encoding=\"utf-8\") as file:\n",
    "        for line in file:\n",
    "            stack.append(line.rstrip())\n",
    "\n",
    "    with open(filename_copy, \"w\", encoding=\"utf-8\") as new_file:\n",
    "        while stack:\n",
    "            new_file.write(stack.pop() + \"\\n\")\n",
    "\n",
    "filename = \"2.8/text.txt\"\n",
    "filename_copy = \"2.8/text_copy.txt\"\n",
    "\n",
    "reverse_lines(filename)"
   ]
  }
 ],
 "metadata": {
  "colab": {
   "provenance": [
    {
     "file_id": "1SJnopeql2j1MhzcaJ8o68KaPzPnynIeK",
     "timestamp": 1676536264821
    }
   ]
  },
  "kernelspec": {
   "display_name": "Python 3",
   "language": "python",
   "name": "python3"
  },
  "language_info": {
   "codemirror_mode": {
    "name": "ipython",
    "version": 3
   },
   "file_extension": ".py",
   "mimetype": "text/x-python",
   "name": "python",
   "nbconvert_exporter": "python",
   "pygments_lexer": "ipython3",
   "version": "3.12.9"
  }
 },
 "nbformat": 4,
 "nbformat_minor": 5
}
