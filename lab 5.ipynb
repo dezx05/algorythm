{
 "cells": [
  {
   "cell_type": "markdown",
   "id": "db4b50f0",
   "metadata": {
    "id": "db4b50f0"
   },
   "source": [
    "# Лабораторная работа №5\n",
    "## Выполнил студент группы ФИО ГРУППА"
   ]
  },
  {
   "cell_type": "markdown",
   "id": "annual-symbol",
   "metadata": {
    "id": "annual-symbol"
   },
   "source": [
    "### Оглавление\n",
    "1. [Задание 1](#Задание-№1)\n",
    "2. [Задание 2](#Задание-№2)\n",
    "4. [Вывод](#Вывод)"
   ]
  },
  {
   "cell_type": "markdown",
   "id": "independent-spirit",
   "metadata": {
    "id": "independent-spirit"
   },
   "source": [
    "> Дополнительные модули, использованные при выполнение лабораторной"
   ]
  },
  {
   "cell_type": "code",
   "execution_count": null,
   "id": "4839be2b",
   "metadata": {
    "id": "4839be2b"
   },
   "outputs": [],
   "source": [
    "# Необходим при замере скорости выполнения кода\n",
    "from datetime import datetime as t\n",
    "# Нужен для создания словаря в алг. Бойера-Мура\n",
    "from collections import defaultdict"
   ]
  },
  {
   "cell_type": "markdown",
   "id": "inclusive-motorcycle",
   "metadata": {
    "id": "inclusive-motorcycle"
   },
   "source": [
    "### Задание №1\n",
    "Реализовать методы поиска подстроки в строке. Добавить возможность ввода строки и подстроки с клавиатуры. Предусмотреть возможность существования пробела. Реализовать возможность выбора опции чувствительности или нечувствитеёльности к регистру. Оценить время работы каждого алгоритма поиска и сравнить его со временем работы стандартной функции поиска, используемой в выбранном языке программирования."
   ]
  },
  {
   "cell_type": "markdown",
   "id": "interracial-communication",
   "metadata": {
    "id": "interracial-communication"
   },
   "source": [
    "#### Алгоритм Кнута-Морриса-Пратта"
   ]
  },
  {
   "cell_type": "code",
   "execution_count": 4,
   "id": "presidential-level",
   "metadata": {
    "id": "presidential-level"
   },
   "outputs": [
    {
     "name": "stdout",
     "output_type": "stream",
     "text": [
      "\n",
      "Результаты поиска:\n",
      "КМП: [34], время: 0.000052 сек\n",
      "Бойер-Мур: [34], время: 0.000043 сек\n",
      "Стандартный поиск: [34], время: 0.000057 сек\n",
      "\n",
      "Строка с выделенной подстрокой (КМП):\n",
      "ывароллпаывполдлравывполдлравываро[аакк]рпвывпролопапрлдопавапроллопа\n",
      "\n",
      "Строка с выделенной подстрокой (Бойер-Мур):\n",
      "ывароллпаывполдлравывполдлравываро[аакк]рпвывпролопапрлдопавапроллопа\n",
      "\n",
      "Строка с выделенной подстрокой (Стандартный поиск):\n",
      "ывароллпаывполдлравывполдлравываро[аакк]рпвывпролопапрлдопавапроллопа\n"
     ]
    }
   ],
   "source": [
    "# Импортируем необходимые модули\n",
    "from datetime import datetime as t\n",
    "from collections import defaultdict\n",
    "\n",
    "# Функция для алгоритма Кнута-Морриса-Пратта\n",
    "def kmp_search(text, pattern, case_sensitive=True):\n",
    "    if not case_sensitive:\n",
    "        text, pattern = text.lower(), pattern.lower()\n",
    "    \n",
    "    # Префикс-функция\n",
    "    def compute_prefix_function(pattern):\n",
    "        prefix = [0] * len(pattern)\n",
    "        j = 0\n",
    "        for i in range(1, len(pattern)):\n",
    "            while j > 0 and pattern[i] != pattern[j]:\n",
    "                j = prefix[j - 1]\n",
    "            if pattern[i] == pattern[j]:\n",
    "                j += 1\n",
    "            prefix[i] = j\n",
    "        return prefix\n",
    "\n",
    "    prefix = compute_prefix_function(pattern)\n",
    "    matches = []\n",
    "    j = 0\n",
    "    for i in range(len(text)):\n",
    "        while j > 0 and text[i] != pattern[j]:\n",
    "            j = prefix[j - 1]\n",
    "        if text[i] == pattern[j]:\n",
    "            j += 1\n",
    "        if j == len(pattern):\n",
    "            matches.append(i - j + 1)\n",
    "            j = prefix[j - 1]\n",
    "    return matches\n",
    "\n",
    "# Функция для упрощенного алгоритма Бойера-Мура\n",
    "def boyer_moore_search(text, pattern, case_sensitive=True):\n",
    "    if not case_sensitive:\n",
    "        text, pattern = text.lower(), pattern.lower()\n",
    "    \n",
    "    def build_bad_character_table(pattern):\n",
    "        table = defaultdict(lambda: -1)\n",
    "        for i, char in enumerate(pattern):\n",
    "            table[char] = i\n",
    "        return table\n",
    "\n",
    "    bad_char_table = build_bad_character_table(pattern)\n",
    "    matches = []\n",
    "    m, n = len(pattern), len(text)\n",
    "    i = 0\n",
    "    while i <= n - m:\n",
    "        j = m - 1\n",
    "        while j >= 0 and pattern[j] == text[i + j]:\n",
    "            j -= 1\n",
    "        if j < 0:\n",
    "            matches.append(i)\n",
    "            i += m - bad_char_table[text[i + m]] if i + m < n else 1\n",
    "        else:\n",
    "            i += max(1, j - bad_char_table[text[i + j]])\n",
    "    return matches\n",
    "\n",
    "# Функция для выделения подстроки в строке\n",
    "def highlight_matches(text, pattern, matches):\n",
    "    highlighted_text = \"\"\n",
    "    last_index = 0\n",
    "    for match in matches:\n",
    "        highlighted_text += text[last_index:match] + \"[\" + text[match:match + len(pattern)] + \"]\"\n",
    "        last_index = match + len(pattern)\n",
    "    highlighted_text += text[last_index:]\n",
    "    return highlighted_text\n",
    "\n",
    "# Основная функция\n",
    "def main():\n",
    "    # Ввод данных\n",
    "    text = input(\"Введите строку: \")\n",
    "    pattern = input(\"Введите подстроку: \")\n",
    "    case_sensitive = input(\"Чувствительность к регистру? (да/нет): \").strip().lower() == \"да\"\n",
    "\n",
    "    # Замер времени и выполнение алгоритмов\n",
    "    import time\n",
    "\n",
    "    start = time.perf_counter()\n",
    "    kmp_result = kmp_search(text, pattern, case_sensitive)\n",
    "    kmp_time = time.perf_counter() - start\n",
    "\n",
    "    start = time.perf_counter()\n",
    "    bm_result = boyer_moore_search(text, pattern, case_sensitive)\n",
    "    bm_time = time.perf_counter() - start\n",
    "\n",
    "    start = time.perf_counter()\n",
    "    python_result = [i for i in range(len(text)) if text[i:i+len(pattern)] == pattern] if case_sensitive else \\\n",
    "                    [i for i in range(len(text)) if text[i:i+len(pattern)].lower() == pattern.lower()]\n",
    "    python_time = time.perf_counter() - start\n",
    "\n",
    "    # Вывод результатов\n",
    "    print(\"\\nРезультаты поиска:\")\n",
    "    print(f\"КМП: {kmp_result}, время: {kmp_time:.6f} сек\")\n",
    "    print(f\"Бойер-Мур: {bm_result}, время: {bm_time:.6f} сек\")\n",
    "    print(f\"Стандартный поиск: {python_result}, время: {python_time:.6f} сек\")\n",
    "\n",
    "    # Вывод строки с выделенной подстрокой\n",
    "    if kmp_result:\n",
    "        print(\"\\nСтрока с выделенной подстрокой (КМП):\")\n",
    "        print(highlight_matches(text, pattern, kmp_result))\n",
    "    if bm_result:\n",
    "        print(\"\\nСтрока с выделенной подстрокой (Бойер-Мур):\")\n",
    "        print(highlight_matches(text, pattern, bm_result))\n",
    "    if python_result:\n",
    "        print(\"\\nСтрока с выделенной подстрокой (Стандартный поиск):\")\n",
    "        print(highlight_matches(text, pattern, python_result))\n",
    "\n",
    "if __name__ == \"__main__\":\n",
    "    main()"
   ]
  },
  {
   "cell_type": "markdown",
   "id": "hybrid-memorial",
   "metadata": {
    "id": "hybrid-memorial"
   },
   "source": [
    "### Задание №2\n",
    "Написать программу, определяющую, является ли данное\n",
    "расположение «решаемым», то есть можно ли из него за конечное число\n",
    "шагов перейти к правильному. Если это возможно, то необходимо найти хотя\n",
    "бы одно решение - последовательность движений, после которой числа будут\n",
    "расположены в правильном порядке.\n",
    "#### Входные данные: массив чисел, представляющий собой расстановку в\n",
    "Порядке «слева направо, сверху вниз». Число 0 обозначает пустое поле.\n",
    "Например, массив [1, 2, 3, 4, 5, 6, 7, 8, 9, 10, 11, 12, 13, 14, 15, 0] представляет\n",
    "собой «решенную» позицию элементов.\n",
    "#### Выходные данные: если решения нет, то функция должна вернуть\n",
    "Пустой массив []. Если решение есть, то необходимо представить решение —\n",
    "для каждого шага записывается номер передвигаемого на данном шаге\n",
    "элемента. "
   ]
  },
  {
   "cell_type": "code",
   "execution_count": 6,
   "id": "eleven-generic",
   "metadata": {
    "id": "eleven-generic"
   },
   "outputs": [
    {
     "name": "stdout",
     "output_type": "stream",
     "text": [
      "Данное расположение не является решаемым.\n"
     ]
    }
   ],
   "source": [
    "from collections import deque\n",
    "\n",
    "# Проверка, является ли головоломка решаемой\n",
    "def is_solvable(puzzle):\n",
    "    inversion_count = 0\n",
    "    puzzle = [num for num in puzzle if num != 0]  # Убираем пустую ячейку (0)\n",
    "    for i in range(len(puzzle)):\n",
    "        for j in range(i + 1, len(puzzle)):\n",
    "            if puzzle[i] > puzzle[j]:\n",
    "                inversion_count += 1\n",
    "    return inversion_count % 2 == 0\n",
    "\n",
    "# Генерация соседних состояний\n",
    "def get_neighbors(state):\n",
    "    neighbors = []\n",
    "    zero_index = state.index(0)\n",
    "    row, col = divmod(zero_index, 4)  # Размер поля 4x4\n",
    "\n",
    "    # Возможные перемещения: вверх, вниз, влево, вправо\n",
    "    moves = [(-1, 0), (1, 0), (0, -1), (0, 1)]\n",
    "    for dr, dc in moves:\n",
    "        new_row, new_col = row + dr, col + dc\n",
    "        if 0 <= new_row < 4 and 0 <= new_col < 4:\n",
    "            new_zero_index = new_row * 4 + new_col\n",
    "            new_state = state[:]\n",
    "            # Меняем местами 0 и соседний элемент\n",
    "            new_state[zero_index], new_state[new_zero_index] = new_state[new_zero_index], new_state[zero_index]\n",
    "            neighbors.append((new_state, state[new_zero_index]))  # Сохраняем состояние и номер передвинутого элемента\n",
    "    return neighbors\n",
    "\n",
    "# Поиск решения с использованием BFS\n",
    "def solve_puzzle(start):\n",
    "    target = [1, 2, 3, 4, 5, 6, 7, 8, 9, 10, 11, 12, 13, 14, 15, 0]  # Решенное состояние\n",
    "    if start == target:\n",
    "        return []  # Уже решено\n",
    "    visited = set()\n",
    "    queue = deque([(start, [])])  # Очередь: (состояние, путь)\n",
    "\n",
    "    while queue:\n",
    "        current_state, path = queue.popleft()\n",
    "        visited.add(tuple(current_state))\n",
    "\n",
    "        for neighbor, moved in get_neighbors(current_state):\n",
    "            if tuple(neighbor) not in visited:\n",
    "                if neighbor == target:\n",
    "                    return path + [moved]  # Возвращаем путь к решению\n",
    "                queue.append((neighbor, path + [moved]))\n",
    "    return []  # Решения нет\n",
    "\n",
    "# Основная функция\n",
    "def main():\n",
    "    # Ввод данных\n",
    "    puzzle = list(map(int, input(\"Введите начальное состояние (16 чисел через пробел): \").split()))\n",
    "    if len(puzzle) != 16 or set(puzzle) != set(range(16)):\n",
    "        print(\"Некорректный ввод. Убедитесь, что ввели 16 чисел от 0 до 15.\")\n",
    "        return\n",
    "\n",
    "    # Проверка решаемости\n",
    "    if not is_solvable(puzzle):\n",
    "        print(\"Данное расположение не является решаемым.\")\n",
    "        return\n",
    "\n",
    "    # Поиск решения\n",
    "    solution = solve_puzzle(puzzle)\n",
    "    if solution:\n",
    "        print(\"Решение найдено!\")\n",
    "        print(\"Последовательность движений:\", solution)\n",
    "    else:\n",
    "        print(\"Решения нет.\")\n",
    "\n",
    "if __name__ == \"__main__\":\n",
    "    main()"
   ]
  },
  {
   "cell_type": "markdown",
   "id": "arbitrary-amazon",
   "metadata": {
    "id": "arbitrary-amazon"
   },
   "source": [
    "### Вывод"
   ]
  },
  {
   "cell_type": "markdown",
   "id": "71bc58bf",
   "metadata": {
    "id": "71bc58bf"
   },
   "source": []
  }
 ],
 "metadata": {
  "colab": {
   "provenance": []
  },
  "kernelspec": {
   "display_name": "Python 3",
   "language": "python",
   "name": "python3"
  },
  "language_info": {
   "codemirror_mode": {
    "name": "ipython",
    "version": 3
   },
   "file_extension": ".py",
   "mimetype": "text/x-python",
   "name": "python",
   "nbconvert_exporter": "python",
   "pygments_lexer": "ipython3",
   "version": "3.11.9"
  }
 },
 "nbformat": 4,
 "nbformat_minor": 5
}
